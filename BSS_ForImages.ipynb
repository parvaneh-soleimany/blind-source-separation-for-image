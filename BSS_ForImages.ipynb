{
 "cells": [
  {
   "cell_type": "markdown",
   "metadata": {},
   "source": [
    "# Parvaneh SoleimanyBaraijany\n",
    "# 0001038101"
   ]
  },
  {
   "cell_type": "markdown",
   "metadata": {
    "id": "BtO9jMGEaShb"
   },
   "source": [
    "# Blind source separation\n",
    "The purpose of the project is to separate an image obtained as a sum of a two images into its components. \n",
    "\n",
    "The two images img1 and img2 summed together come from different dataset: mnist and fashion_mnist, respectively.\n",
    "\n",
    "No preprocessing is allowed. The network takes in input the sum img1+img2 and returns the predicted components hat_img1 and hat_img2. \n",
    "\n",
    "The metric used to evaluate the project is the mean squared error between predicted and ground truth images.\n"
   ]
  },
  {
   "cell_type": "code",
   "execution_count": 1,
   "metadata": {
    "id": "wrlTnZCNfnfr"
   },
   "outputs": [],
   "source": [
    "import tensorflow as tf\n",
    "from tensorflow.keras import layers\n",
    "from tensorflow.keras.datasets import mnist, fashion_mnist\n",
    "from tensorflow import keras\n",
    "from keras.layers import *\n",
    "from keras.models import *\n",
    "import numpy as np\n",
    "from matplotlib import pyplot as plt"
   ]
  },
  {
   "cell_type": "markdown",
   "metadata": {
    "id": "fRotM-TfcUcn"
   },
   "source": [
    "Here we load the two datasets, mnist and fashion mnist (both in grayscale).\n",
    "\n",
    "For simplicity, the samples are padded to dimension (32,32)."
   ]
  },
  {
   "cell_type": "code",
   "execution_count": 2,
   "metadata": {
    "colab": {
     "base_uri": "https://localhost:8080/"
    },
    "id": "yRYiW2ipukZF",
    "outputId": "6790ea72-befe-4c7c-b9ce-265c9c666d8d"
   },
   "outputs": [
    {
     "name": "stdout",
     "output_type": "stream",
     "text": [
      "Downloading data from https://storage.googleapis.com/tensorflow/tf-keras-datasets/mnist.npz\n",
      "11493376/11490434 [==============================] - 0s 0us/step\n",
      "11501568/11490434 [==============================] - 0s 0us/step\n",
      "(60000, 28, 28)\n",
      "Downloading data from https://storage.googleapis.com/tensorflow/tf-keras-datasets/train-labels-idx1-ubyte.gz\n",
      "32768/29515 [=================================] - 0s 0us/step\n",
      "40960/29515 [=========================================] - 0s 0us/step\n",
      "Downloading data from https://storage.googleapis.com/tensorflow/tf-keras-datasets/train-images-idx3-ubyte.gz\n",
      "26427392/26421880 [==============================] - 0s 0us/step\n",
      "26435584/26421880 [==============================] - 0s 0us/step\n",
      "Downloading data from https://storage.googleapis.com/tensorflow/tf-keras-datasets/t10k-labels-idx1-ubyte.gz\n",
      "16384/5148 [===============================================================================================] - 0s 0us/step\n",
      "Downloading data from https://storage.googleapis.com/tensorflow/tf-keras-datasets/t10k-images-idx3-ubyte.gz\n",
      "4423680/4422102 [==============================] - 0s 0us/step\n",
      "4431872/4422102 [==============================] - 0s 0us/step\n",
      "(60000, 32, 32)\n"
     ]
    }
   ],
   "source": [
    "(mnist_x_train, mnist_y_train), (mnist_x_test, mnist_y_test) = mnist.load_data()\n",
    "print(np.shape(mnist_x_train))\n",
    "(fashion_mnist_x_train, fashion_mnist_y_train), (fashion_mnist_x_test, fashion_mnist_y_test) = fashion_mnist.load_data()\n",
    "#normnalize in and pad\n",
    "mnist_x_train = np.pad(mnist_x_train,((0,0),(2,2),(2,2)))/255.\n",
    "print(np.shape(mnist_x_train))\n",
    "mnist_x_test = np.pad(mnist_x_test,((0,0),(2,2),(2,2)))/255.\n",
    "fashion_mnist_x_train = np.pad(fashion_mnist_x_train,((0,0),(2,2),(2,2)))/255.\n",
    "fashion_mnist_x_test = np.pad(fashion_mnist_x_test,((0,0),(2,2),(2,2)))/255."
   ]
  },
  {
   "cell_type": "code",
   "execution_count": 3,
   "metadata": {
    "colab": {
     "base_uri": "https://localhost:8080/"
    },
    "id": "WBIWB2a-VGqH",
    "outputId": "bafa110c-ac9d-409e-843b-ee3126570693"
   },
   "outputs": [
    {
     "name": "stdout",
     "output_type": "stream",
     "text": [
      "(60000, 32, 32)\n"
     ]
    }
   ],
   "source": [
    "print(np.shape(mnist_x_train))"
   ]
  },
  {
   "cell_type": "markdown",
   "metadata": {
    "id": "Or5X_DyPc6dT"
   },
   "source": [
    "Here is a simple datagenerator."
   ]
  },
  {
   "cell_type": "code",
   "execution_count": 4,
   "metadata": {
    "id": "7Y5Zpv5fw2hd"
   },
   "outputs": [],
   "source": [
    "def datagenerator(x1,x2,batchsize):\n",
    "    n1 = x1.shape[0]\n",
    "    n2 = x2.shape[0]\n",
    "    while True:\n",
    "        num1 = np.random.randint(0, n1, batchsize)\n",
    "        num2 = np.random.randint(0, n2, batchsize)\n",
    "\n",
    "        x_data = (x1[num1] + x2[num2]) / 2.0\n",
    "        y_data = np.concatenate((x1[num1], x2[num2]), axis=0)\n",
    "        x_data = np.transpose(x_data)\n",
    "        y_data = np.transpose(y_data)\n",
    "        yield x_data, y_data"
   ]
  },
  {
   "cell_type": "markdown",
   "metadata": {
    "id": "9JLwLpsrdVH-"
   },
   "source": [
    "Here we define two generators, one for training and one for testing. You may possibly add an addition generator for validation, further splitting the dataset."
   ]
  },
  {
   "cell_type": "code",
   "execution_count": 5,
   "metadata": {
    "id": "Xc95qrN72Ysu"
   },
   "outputs": [],
   "source": [
    "batchsize = 64\n",
    "inputShape = (32,32,1)"
   ]
  },
  {
   "cell_type": "code",
   "execution_count": 6,
   "metadata": {
    "id": "dkv8Qc9-wEnf"
   },
   "outputs": [],
   "source": [
    "train_generator = datagenerator(mnist_x_train,fashion_mnist_x_train, 1)\n",
    "validation_generator = datagenerator(mnist_x_train,fashion_mnist_x_train,1)\n",
    "test_generator = datagenerator(mnist_x_test,fashion_mnist_x_test,1)"
   ]
  },
  {
   "cell_type": "code",
   "execution_count": 7,
   "metadata": {
    "id": "ng1jw01_YDyH"
   },
   "outputs": [],
   "source": [
    "def generate_from_train(n_samples):\n",
    "  x = np.zeros((n_samples,32,32,1))\n",
    "  y = np.zeros((n_samples,32,32,2))\n",
    "  for i in range(n_samples):\n",
    "      x[i], y[i] = next(train_generator)\n",
    "  return x, y"
   ]
  },
  {
   "cell_type": "code",
   "execution_count": 8,
   "metadata": {
    "colab": {
     "base_uri": "https://localhost:8080/"
    },
    "id": "Up2hf9aBXn2u",
    "outputId": "17fd6b00-dba4-4fa1-a734-10f9bf6ee8f7"
   },
   "outputs": [
    {
     "name": "stdout",
     "output_type": "stream",
     "text": [
      "(40000, 32, 32, 1)\n",
      "(40000, 32, 32, 2)\n"
     ]
    }
   ],
   "source": [
    "x_train, y_train = generate_from_train(40000)\n",
    "    \n",
    "print(x_train.shape)\n",
    "print(y_train.shape)"
   ]
  },
  {
   "cell_type": "code",
   "execution_count": 9,
   "metadata": {
    "colab": {
     "base_uri": "https://localhost:8080/"
    },
    "id": "tJDJAtW0Xn2u",
    "outputId": "7ae1f273-9a11-4b8a-9c2b-fa98a2ed22f0"
   },
   "outputs": [
    {
     "name": "stdout",
     "output_type": "stream",
     "text": [
      "(10000, 32, 32, 1)\n",
      "(10000, 32, 32, 2)\n"
     ]
    }
   ],
   "source": [
    "x_validation, y_validation = generate_from_train(10000)\n",
    "    \n",
    "print(x_validation.shape)\n",
    "print(y_validation.shape)"
   ]
  },
  {
   "cell_type": "code",
   "execution_count": 10,
   "metadata": {
    "id": "wbzhG1U-Xn2u",
    "scrolled": true
   },
   "outputs": [],
   "source": [
    "def generate_from_test(n_samples):\n",
    "  x = np.zeros((n_samples,32,32,1))\n",
    "  y = np.zeros((n_samples,32,32,2))\n",
    "  for i in range(n_samples):\n",
    "      x[i], y[i] = next(test_generator)\n",
    "  return x, y"
   ]
  },
  {
   "cell_type": "code",
   "execution_count": 11,
   "metadata": {
    "colab": {
     "base_uri": "https://localhost:8080/"
    },
    "id": "Zflw0aULZect",
    "outputId": "e5271d91-02cb-461e-af26-a8312dc7f82c"
   },
   "outputs": [
    {
     "name": "stdout",
     "output_type": "stream",
     "text": [
      "(20000, 32, 32, 1)\n",
      "(20000, 32, 32, 2)\n"
     ]
    }
   ],
   "source": [
    "x_test, y_test = generate_from_test(20000)\n",
    "    \n",
    "print(x_test.shape)\n",
    "print(y_test.shape)"
   ]
  },
  {
   "cell_type": "markdown",
   "metadata": {},
   "source": [
    "Here we show a sample from the train set"
   ]
  },
  {
   "cell_type": "code",
   "execution_count": 13,
   "metadata": {
    "colab": {
     "base_uri": "https://localhost:8080/",
     "height": 228
    },
    "id": "MPslGyNdxUQS",
    "outputId": "fc30be5d-b1f1-4a83-9b94-06ac996362cd"
   },
   "outputs": [
    {
     "data": {
      "image/png": "[encoded data removed]",
      "text/plain": [
       "<Figure size 720x720 with 3 Axes>"
      ]
     },
     "metadata": {
      "needs_background": "light"
     },
     "output_type": "display_data"
    }
   ],
   "source": [
    "fig, axes = plt.subplots(nrows=1, ncols=3, figsize=(10, 10))\n",
    "axes[0].set_title('Summed image')\n",
    "axes[0].imshow(x_train[0,:,:,0],cmap='gray', interpolation='nearest');\n",
    "axes[1].set_title('original images')\n",
    "axes[1].imshow(y_train[0,:,:,0],cmap='gray', interpolation='nearest');\n",
    "axes[2].set_title('original images')\n",
    "axes[2].imshow(y_train[0,:,:,1],cmap='gray', interpolation='nearest');"
   ]
  },
  {
   "cell_type": "markdown",
   "metadata": {
    "id": "q8yqAyNQeiHC"
   },
   "source": [
    "# RIDNet neural network\n",
    "In this project I take advantage of the framework introduced in this repository:\n",
    "\n",
    "https://github.com/Captain272/Image-Denoising\n"
   ]
  },
  {
   "cell_type": "code",
   "execution_count": 15,
   "metadata": {
    "id": "G3eqNd5uwFq7"
   },
   "outputs": [],
   "source": [
    "def EAM(input):\n",
    "  channels = 64\n",
    "  s = (3, 3)\n",
    "  x=Conv2D(channels, (3, 3), dilation_rate=1,padding='same',activation='relu')(input)\n",
    "  x=Conv2D(channels, (3, 3), dilation_rate=2,padding='same',activation='relu')(x)\n",
    "\n",
    "  y=Conv2D(channels, (3, 3), dilation_rate=3,padding='same',activation='relu')(input)\n",
    "  y=Conv2D(channels, (3, 3), dilation_rate=4,padding='same',activation='relu')(y)\n",
    "\n",
    "  z=Concatenate(axis=-1)([x,y])\n",
    "  z=Conv2D(channels, (3, 3),padding='same',activation='relu')(z)\n",
    "  add_1=Add()([z, input])\n",
    "\n",
    "  z=Conv2D(channels, (3, 3),padding='same',activation='relu')(add_1)\n",
    "  z=Conv2D(channels, (3, 3),padding='same')(z)\n",
    "  add_2=Add()([z,add_1])\n",
    "  add_2 = Activation('relu')(add_2)\n",
    "\n",
    "  z=Conv2D(channels, (3, 3),padding='same',activation='relu')(add_2)\n",
    "  z=Conv2D(channels, (3, 3),padding='same',activation='relu')(z)\n",
    "  z=Conv2D(channels, (3, 3),padding='same')(z)\n",
    "  add_3=Add()([z,add_2])\n",
    "  add_3 = Activation('relu')(add_3)\n",
    "\n",
    "  z = GlobalAveragePooling2D(keepdims=True)(add_3)\n",
    "  \n",
    "  z=Conv2D(4, 3,padding='same',activation='relu')(z)\n",
    "  z=Conv2D(channels, 3,padding='same',activation='sigmoid')(z)\n",
    "  mul=Multiply()([z, add_3])\n",
    "\n",
    "  return mul"
   ]
  },
  {
   "cell_type": "code",
   "execution_count": 20,
   "metadata": {
    "id": "5mezBCoXwTi6"
   },
   "outputs": [],
   "source": [
    "def RIDNET():\n",
    "\n",
    "  input = Input(inputShape, name='input')\n",
    "  feat_extraction =Conv2D(64, (3, 3),padding='same')(input)\n",
    "  eam_1=EAM(feat_extraction)\n",
    "  eam_2=EAM(eam_1)\n",
    "  eam_3=EAM(eam_2)\n",
    "  eam_4=EAM(eam_3)\n",
    "  eam_5=EAM(eam_4)\n",
    "  x=Conv2D(2, (3, 3),padding='same')(eam_5)\n",
    "  add_2=Add()([x, input])\n",
    "  \n",
    "  model=Model(input,add_2)\n",
    "\n",
    "  return model"
   ]
  },
  {
   "cell_type": "code",
   "execution_count": 21,
   "metadata": {
    "id": "mSlii0yLwbbq"
   },
   "outputs": [],
   "source": [
    "tf.keras.backend.clear_session()\n",
    "tf.random.set_seed(6908)\n",
    "ridnet = RIDNET()"
   ]
  },
  {
   "cell_type": "code",
   "execution_count": 22,
   "metadata": {
    "colab": {
     "base_uri": "https://localhost:8080/"
    },
    "id": "1Tkawadtwm0K",
    "outputId": "07aab696-5dd1-40b1-9dea-9cec9fb9a3fb"
   },
   "outputs": [
    {
     "name": "stdout",
     "output_type": "stream",
     "text": [
      "Model: \"model\"\n",
      "__________________________________________________________________________________________________\n",
      " Layer (type)                   Output Shape         Param #     Connected to                     \n",
      "==================================================================================================\n",
      " input (InputLayer)             [(None, 32, 32, 1)]  0           []                               \n",
      "                                                                                                  \n",
      " conv2d (Conv2D)                (None, 32, 32, 64)   640         ['input[0][0]']                  \n",
      "                                                                                                  \n",
      " conv2d_1 (Conv2D)              (None, 32, 32, 64)   36928       ['conv2d[0][0]']                 \n",
      "                                                                                                  \n",
      " conv2d_3 (Conv2D)              (None, 32, 32, 64)   36928       ['conv2d[0][0]']                 \n",
      "                                                                                                  \n",
      " conv2d_2 (Conv2D)              (None, 32, 32, 64)   36928       ['conv2d_1[0][0]']               \n",
      "                                                                                                  \n",
      " conv2d_4 (Conv2D)              (None, 32, 32, 64)   36928       ['conv2d_3[0][0]']               \n",
      "                                                                                                  \n",
      " concatenate (Concatenate)      (None, 32, 32, 128)  0           ['conv2d_2[0][0]',               \n",
      "                                                                  'conv2d_4[0][0]']               \n",
      "                                                                                                  \n",
      " conv2d_5 (Conv2D)              (None, 32, 32, 64)   73792       ['concatenate[0][0]']            \n",
      "                                                                                                  \n",
      " add (Add)                      (None, 32, 32, 64)   0           ['conv2d_5[0][0]',               \n",
      "                                                                  'conv2d[0][0]']                 \n",
      "                                                                                                  \n",
      " conv2d_6 (Conv2D)              (None, 32, 32, 64)   36928       ['add[0][0]']                    \n",
      "                                                                                                  \n",
      " conv2d_7 (Conv2D)              (None, 32, 32, 64)   36928       ['conv2d_6[0][0]']               \n",
      "                                                                                                  \n",
      " add_1 (Add)                    (None, 32, 32, 64)   0           ['conv2d_7[0][0]',               \n",
      "                                                                  'add[0][0]']                    \n",
      "                                                                                                  \n",
      " activation (Activation)        (None, 32, 32, 64)   0           ['add_1[0][0]']                  \n",
      "                                                                                                  \n",
      " conv2d_8 (Conv2D)              (None, 32, 32, 64)   36928       ['activation[0][0]']             \n",
      "                                                                                                  \n",
      " conv2d_9 (Conv2D)              (None, 32, 32, 64)   36928       ['conv2d_8[0][0]']               \n",
      "                                                                                                  \n",
      " conv2d_10 (Conv2D)             (None, 32, 32, 64)   36928       ['conv2d_9[0][0]']               \n",
      "                                                                                                  \n",
      " add_2 (Add)                    (None, 32, 32, 64)   0           ['conv2d_10[0][0]',              \n",
      "                                                                  'activation[0][0]']             \n",
      "                                                                                                  \n",
      " activation_1 (Activation)      (None, 32, 32, 64)   0           ['add_2[0][0]']                  \n",
      "                                                                                                  \n",
      " global_average_pooling2d (Glob  (None, 1, 1, 64)    0           ['activation_1[0][0]']           \n",
      " alAveragePooling2D)                                                                              \n",
      "                                                                                                  \n",
      " conv2d_11 (Conv2D)             (None, 1, 1, 4)      2308        ['global_average_pooling2d[0][0]'\n",
      "                                                                 ]                                \n",
      "                                                                                                  \n",
      " conv2d_12 (Conv2D)             (None, 1, 1, 64)     2368        ['conv2d_11[0][0]']              \n",
      "                                                                                                  \n",
      " multiply (Multiply)            (None, 32, 32, 64)   0           ['conv2d_12[0][0]',              \n",
      "                                                                  'activation_1[0][0]']           \n",
      "                                                                                                  \n",
      " conv2d_13 (Conv2D)             (None, 32, 32, 64)   36928       ['multiply[0][0]']               \n",
      "                                                                                                  \n",
      " conv2d_15 (Conv2D)             (None, 32, 32, 64)   36928       ['multiply[0][0]']               \n",
      "                                                                                                  \n",
      " conv2d_14 (Conv2D)             (None, 32, 32, 64)   36928       ['conv2d_13[0][0]']              \n",
      "                                                                                                  \n",
      " conv2d_16 (Conv2D)             (None, 32, 32, 64)   36928       ['conv2d_15[0][0]']              \n",
      "                                                                                                  \n",
      " concatenate_1 (Concatenate)    (None, 32, 32, 128)  0           ['conv2d_14[0][0]',              \n",
      "                                                                  'conv2d_16[0][0]']              \n",
      "                                                                                                  \n",
      " conv2d_17 (Conv2D)             (None, 32, 32, 64)   73792       ['concatenate_1[0][0]']          \n",
      "                                                                                                  \n",
      " add_3 (Add)                    (None, 32, 32, 64)   0           ['conv2d_17[0][0]',              \n",
      "                                                                  'multiply[0][0]']               \n",
      "                                                                                                  \n",
      " conv2d_18 (Conv2D)             (None, 32, 32, 64)   36928       ['add_3[0][0]']                  \n",
      "                                                                                                  \n",
      " conv2d_19 (Conv2D)             (None, 32, 32, 64)   36928       ['conv2d_18[0][0]']              \n",
      "                                                                                                  \n",
      " add_4 (Add)                    (None, 32, 32, 64)   0           ['conv2d_19[0][0]',              \n",
      "                                                                  'add_3[0][0]']                  \n",
      "                                                                                                  \n",
      " activation_2 (Activation)      (None, 32, 32, 64)   0           ['add_4[0][0]']                  \n",
      "                                                                                                  \n",
      " conv2d_20 (Conv2D)             (None, 32, 32, 64)   36928       ['activation_2[0][0]']           \n",
      "                                                                                                  \n",
      " conv2d_21 (Conv2D)             (None, 32, 32, 64)   36928       ['conv2d_20[0][0]']              \n",
      "                                                                                                  \n",
      " conv2d_22 (Conv2D)             (None, 32, 32, 64)   36928       ['conv2d_21[0][0]']              \n",
      "                                                                                                  \n",
      " add_5 (Add)                    (None, 32, 32, 64)   0           ['conv2d_22[0][0]',              \n",
      "                                                                  'activation_2[0][0]']           \n",
      "                                                                                                  \n",
      " activation_3 (Activation)      (None, 32, 32, 64)   0           ['add_5[0][0]']                  \n",
      "                                                                                                  \n",
      " global_average_pooling2d_1 (Gl  (None, 1, 1, 64)    0           ['activation_3[0][0]']           \n",
      " obalAveragePooling2D)                                                                            \n",
      "                                                                                                  \n",
      " conv2d_23 (Conv2D)             (None, 1, 1, 4)      2308        ['global_average_pooling2d_1[0][0\n",
      "                                                                 ]']                              \n",
      "                                                                                                  \n",
      " conv2d_24 (Conv2D)             (None, 1, 1, 64)     2368        ['conv2d_23[0][0]']              \n",
      "                                                                                                  \n",
      " multiply_1 (Multiply)          (None, 32, 32, 64)   0           ['conv2d_24[0][0]',              \n",
      "                                                                  'activation_3[0][0]']           \n",
      "                                                                                                  \n",
      " conv2d_25 (Conv2D)             (None, 32, 32, 64)   36928       ['multiply_1[0][0]']             \n",
      "                                                                                                  \n",
      " conv2d_27 (Conv2D)             (None, 32, 32, 64)   36928       ['multiply_1[0][0]']             \n",
      "                                                                                                  \n",
      " conv2d_26 (Conv2D)             (None, 32, 32, 64)   36928       ['conv2d_25[0][0]']              \n",
      "                                                                                                  \n",
      " conv2d_28 (Conv2D)             (None, 32, 32, 64)   36928       ['conv2d_27[0][0]']              \n",
      "                                                                                                  \n",
      " concatenate_2 (Concatenate)    (None, 32, 32, 128)  0           ['conv2d_26[0][0]',              \n",
      "                                                                  'conv2d_28[0][0]']              \n",
      "                                                                                                  \n",
      " conv2d_29 (Conv2D)             (None, 32, 32, 64)   73792       ['concatenate_2[0][0]']          \n",
      "                                                                                                  \n",
      " add_6 (Add)                    (None, 32, 32, 64)   0           ['conv2d_29[0][0]',              \n",
      "                                                                  'multiply_1[0][0]']             \n",
      "                                                                                                  \n",
      " conv2d_30 (Conv2D)             (None, 32, 32, 64)   36928       ['add_6[0][0]']                  \n",
      "                                                                                                  \n",
      " conv2d_31 (Conv2D)             (None, 32, 32, 64)   36928       ['conv2d_30[0][0]']              \n",
      "                                                                                                  \n",
      " add_7 (Add)                    (None, 32, 32, 64)   0           ['conv2d_31[0][0]',              \n",
      "                                                                  'add_6[0][0]']                  \n",
      "                                                                                                  \n",
      " activation_4 (Activation)      (None, 32, 32, 64)   0           ['add_7[0][0]']                  \n",
      "                                                                                                  \n",
      " conv2d_32 (Conv2D)             (None, 32, 32, 64)   36928       ['activation_4[0][0]']           \n",
      "                                                                                                  \n",
      " conv2d_33 (Conv2D)             (None, 32, 32, 64)   36928       ['conv2d_32[0][0]']              \n",
      "                                                                                                  \n",
      " conv2d_34 (Conv2D)             (None, 32, 32, 64)   36928       ['conv2d_33[0][0]']              \n",
      "                                                                                                  \n",
      " add_8 (Add)                    (None, 32, 32, 64)   0           ['conv2d_34[0][0]',              \n",
      "                                                                  'activation_4[0][0]']           \n",
      "                                                                                                  \n",
      " activation_5 (Activation)      (None, 32, 32, 64)   0           ['add_8[0][0]']                  \n",
      "                                                                                                  \n",
      " global_average_pooling2d_2 (Gl  (None, 1, 1, 64)    0           ['activation_5[0][0]']           \n",
      " obalAveragePooling2D)                                                                            \n",
      "                                                                                                  \n",
      " conv2d_35 (Conv2D)             (None, 1, 1, 4)      2308        ['global_average_pooling2d_2[0][0\n",
      "                                                                 ]']                              \n",
      "                                                                                                  \n",
      " conv2d_36 (Conv2D)             (None, 1, 1, 64)     2368        ['conv2d_35[0][0]']              \n",
      "                                                                                                  \n",
      " multiply_2 (Multiply)          (None, 32, 32, 64)   0           ['conv2d_36[0][0]',              \n",
      "                                                                  'activation_5[0][0]']           \n",
      "                                                                                                  \n",
      " conv2d_37 (Conv2D)             (None, 32, 32, 64)   36928       ['multiply_2[0][0]']             \n",
      "                                                                                                  \n",
      " conv2d_39 (Conv2D)             (None, 32, 32, 64)   36928       ['multiply_2[0][0]']             \n",
      "                                                                                                  \n",
      " conv2d_38 (Conv2D)             (None, 32, 32, 64)   36928       ['conv2d_37[0][0]']              \n",
      "                                                                                                  \n",
      " conv2d_40 (Conv2D)             (None, 32, 32, 64)   36928       ['conv2d_39[0][0]']              \n",
      "                                                                                                  \n",
      " concatenate_3 (Concatenate)    (None, 32, 32, 128)  0           ['conv2d_38[0][0]',              \n",
      "                                                                  'conv2d_40[0][0]']              \n",
      "                                                                                                  \n",
      " conv2d_41 (Conv2D)             (None, 32, 32, 64)   73792       ['concatenate_3[0][0]']          \n",
      "                                                                                                  \n",
      " add_9 (Add)                    (None, 32, 32, 64)   0           ['conv2d_41[0][0]',              \n",
      "                                                                  'multiply_2[0][0]']             \n",
      "                                                                                                  \n",
      " conv2d_42 (Conv2D)             (None, 32, 32, 64)   36928       ['add_9[0][0]']                  \n",
      "                                                                                                  \n",
      " conv2d_43 (Conv2D)             (None, 32, 32, 64)   36928       ['conv2d_42[0][0]']              \n",
      "                                                                                                  \n",
      " add_10 (Add)                   (None, 32, 32, 64)   0           ['conv2d_43[0][0]',              \n",
      "                                                                  'add_9[0][0]']                  \n",
      "                                                                                                  \n",
      " activation_6 (Activation)      (None, 32, 32, 64)   0           ['add_10[0][0]']                 \n",
      "                                                                                                  \n",
      " conv2d_44 (Conv2D)             (None, 32, 32, 64)   36928       ['activation_6[0][0]']           \n",
      "                                                                                                  \n",
      " conv2d_45 (Conv2D)             (None, 32, 32, 64)   36928       ['conv2d_44[0][0]']              \n",
      "                                                                                                  \n",
      " conv2d_46 (Conv2D)             (None, 32, 32, 64)   36928       ['conv2d_45[0][0]']              \n",
      "                                                                                                  \n",
      " add_11 (Add)                   (None, 32, 32, 64)   0           ['conv2d_46[0][0]',              \n",
      "                                                                  'activation_6[0][0]']           \n",
      "                                                                                                  \n",
      " activation_7 (Activation)      (None, 32, 32, 64)   0           ['add_11[0][0]']                 \n",
      "                                                                                                  \n",
      " global_average_pooling2d_3 (Gl  (None, 1, 1, 64)    0           ['activation_7[0][0]']           \n",
      " obalAveragePooling2D)                                                                            \n",
      "                                                                                                  \n",
      " conv2d_47 (Conv2D)             (None, 1, 1, 4)      2308        ['global_average_pooling2d_3[0][0\n",
      "                                                                 ]']                              \n",
      "                                                                                                  \n",
      " conv2d_48 (Conv2D)             (None, 1, 1, 64)     2368        ['conv2d_47[0][0]']              \n",
      "                                                                                                  \n",
      " multiply_3 (Multiply)          (None, 32, 32, 64)   0           ['conv2d_48[0][0]',              \n",
      "                                                                  'activation_7[0][0]']           \n",
      "                                                                                                  \n",
      " conv2d_49 (Conv2D)             (None, 32, 32, 64)   36928       ['multiply_3[0][0]']             \n",
      "                                                                                                  \n",
      " conv2d_51 (Conv2D)             (None, 32, 32, 64)   36928       ['multiply_3[0][0]']             \n",
      "                                                                                                  \n",
      " conv2d_50 (Conv2D)             (None, 32, 32, 64)   36928       ['conv2d_49[0][0]']              \n",
      "                                                                                                  \n",
      " conv2d_52 (Conv2D)             (None, 32, 32, 64)   36928       ['conv2d_51[0][0]']              \n",
      "                                                                                                  \n",
      " concatenate_4 (Concatenate)    (None, 32, 32, 128)  0           ['conv2d_50[0][0]',              \n",
      "                                                                  'conv2d_52[0][0]']              \n",
      "                                                                                                  \n",
      " conv2d_53 (Conv2D)             (None, 32, 32, 64)   73792       ['concatenate_4[0][0]']          \n",
      "                                                                                                  \n",
      " add_12 (Add)                   (None, 32, 32, 64)   0           ['conv2d_53[0][0]',              \n",
      "                                                                  'multiply_3[0][0]']             \n",
      "                                                                                                  \n",
      " conv2d_54 (Conv2D)             (None, 32, 32, 64)   36928       ['add_12[0][0]']                 \n",
      "                                                                                                  \n",
      " conv2d_55 (Conv2D)             (None, 32, 32, 64)   36928       ['conv2d_54[0][0]']              \n",
      "                                                                                                  \n",
      " add_13 (Add)                   (None, 32, 32, 64)   0           ['conv2d_55[0][0]',              \n",
      "                                                                  'add_12[0][0]']                 \n",
      "                                                                                                  \n",
      " activation_8 (Activation)      (None, 32, 32, 64)   0           ['add_13[0][0]']                 \n",
      "                                                                                                  \n",
      " conv2d_56 (Conv2D)             (None, 32, 32, 64)   36928       ['activation_8[0][0]']           \n",
      "                                                                                                  \n",
      " conv2d_57 (Conv2D)             (None, 32, 32, 64)   36928       ['conv2d_56[0][0]']              \n",
      "                                                                                                  \n",
      " conv2d_58 (Conv2D)             (None, 32, 32, 64)   36928       ['conv2d_57[0][0]']              \n",
      "                                                                                                  \n",
      " add_14 (Add)                   (None, 32, 32, 64)   0           ['conv2d_58[0][0]',              \n",
      "                                                                  'activation_8[0][0]']           \n",
      "                                                                                                  \n",
      " activation_9 (Activation)      (None, 32, 32, 64)   0           ['add_14[0][0]']                 \n",
      "                                                                                                  \n",
      " global_average_pooling2d_4 (Gl  (None, 1, 1, 64)    0           ['activation_9[0][0]']           \n",
      " obalAveragePooling2D)                                                                            \n",
      "                                                                                                  \n",
      " conv2d_59 (Conv2D)             (None, 1, 1, 4)      2308        ['global_average_pooling2d_4[0][0\n",
      "                                                                 ]']                              \n",
      "                                                                                                  \n",
      " conv2d_60 (Conv2D)             (None, 1, 1, 64)     2368        ['conv2d_59[0][0]']              \n",
      "                                                                                                  \n",
      " multiply_4 (Multiply)          (None, 32, 32, 64)   0           ['conv2d_60[0][0]',              \n",
      "                                                                  'activation_9[0][0]']           \n",
      "                                                                                                  \n",
      " conv2d_61 (Conv2D)             (None, 32, 32, 2)    1154        ['multiply_4[0][0]']             \n",
      "                                                                                                  \n",
      " add_15 (Add)                   (None, 32, 32, 2)    0           ['conv2d_61[0][0]',              \n",
      "                                                                  'input[0][0]']                  \n",
      "                                                                                                  \n",
      "==================================================================================================\n",
      "Total params: 2,055,894\n",
      "Trainable params: 2,055,894\n",
      "Non-trainable params: 0\n",
      "__________________________________________________________________________________________________\n"
     ]
    }
   ],
   "source": [
    "ridnet.summary()"
   ]
  },
  {
   "cell_type": "code",
   "execution_count": 23,
   "metadata": {
    "id": "6T402Og75w1z"
   },
   "outputs": [],
   "source": [
    "ridnet.compile(optimizer=\"adam\", loss=\"logcosh\", metrics=[\"mse\"])"
   ]
  },
  {
   "cell_type": "markdown",
   "metadata": {},
   "source": [
    "Here we fit the model with 50 epoches"
   ]
  },
  {
   "cell_type": "code",
   "execution_count": 24,
   "metadata": {
    "colab": {
     "base_uri": "https://localhost:8080/"
    },
    "id": "b-cD_S3nwzrB",
    "outputId": "4d4849db-0759-4238-b220-7f7168baa429"
   },
   "outputs": [
    {
     "name": "stdout",
     "output_type": "stream",
     "text": [
      "Epoch 1/50\n",
      "625/625 [==============================] - 177s 279ms/step - loss: 0.0037 - mse: 0.0075 - val_loss: 0.0045 - val_mse: 0.0092\n",
      "Epoch 2/50\n",
      "625/625 [==============================] - 173s 277ms/step - loss: 9.0024e-04 - mse: 0.0018 - val_loss: 5.6431e-04 - val_mse: 0.0012\n",
      "Epoch 3/50\n",
      "625/625 [==============================] - 173s 277ms/step - loss: 7.7982e-04 - mse: 0.0016 - val_loss: 5.4089e-04 - val_mse: 0.0011\n",
      "Epoch 4/50\n",
      "625/625 [==============================] - 173s 276ms/step - loss: 5.1830e-04 - mse: 0.0011 - val_loss: 4.7389e-04 - val_mse: 9.6716e-04\n",
      "Epoch 5/50\n",
      "625/625 [==============================] - 173s 276ms/step - loss: 4.4473e-04 - mse: 9.0511e-04 - val_loss: 4.0782e-04 - val_mse: 8.2945e-04\n",
      "Epoch 6/50\n",
      "625/625 [==============================] - 173s 277ms/step - loss: 4.2712e-04 - mse: 8.6998e-04 - val_loss: 3.8494e-04 - val_mse: 7.8418e-04\n",
      "Epoch 7/50\n",
      "625/625 [==============================] - 173s 276ms/step - loss: 3.3795e-04 - mse: 6.8528e-04 - val_loss: 3.4679e-04 - val_mse: 7.0640e-04\n",
      "Epoch 8/50\n",
      "625/625 [==============================] - 173s 277ms/step - loss: 3.0387e-04 - mse: 6.1528e-04 - val_loss: 3.4162e-04 - val_mse: 6.9522e-04\n",
      "Epoch 9/50\n",
      "625/625 [==============================] - 172s 276ms/step - loss: 3.8207e-04 - mse: 7.7731e-04 - val_loss: 3.1382e-04 - val_mse: 6.3773e-04\n",
      "Epoch 10/50\n",
      "625/625 [==============================] - 172s 276ms/step - loss: 3.8206e-04 - mse: 7.7803e-04 - val_loss: 6.0496e-04 - val_mse: 0.0012\n",
      "Epoch 11/50\n",
      "625/625 [==============================] - 172s 275ms/step - loss: 3.4689e-04 - mse: 7.0425e-04 - val_loss: 3.2627e-04 - val_mse: 6.6303e-04\n",
      "Epoch 12/50\n",
      "625/625 [==============================] - 172s 275ms/step - loss: 3.1399e-04 - mse: 6.3689e-04 - val_loss: 2.9162e-04 - val_mse: 5.9234e-04\n",
      "Epoch 13/50\n",
      "625/625 [==============================] - 172s 275ms/step - loss: 2.7040e-04 - mse: 5.4716e-04 - val_loss: 7.1200e-04 - val_mse: 0.0015\n",
      "Epoch 14/50\n",
      "625/625 [==============================] - 172s 275ms/step - loss: 2.7978e-04 - mse: 5.6617e-04 - val_loss: 2.8986e-04 - val_mse: 5.8999e-04\n",
      "Epoch 15/50\n",
      "625/625 [==============================] - 172s 275ms/step - loss: 3.2416e-04 - mse: 6.5856e-04 - val_loss: 3.3054e-04 - val_mse: 6.7257e-04\n",
      "Epoch 16/50\n",
      "625/625 [==============================] - 172s 275ms/step - loss: 2.3777e-04 - mse: 4.8019e-04 - val_loss: 3.2619e-04 - val_mse: 6.6435e-04\n",
      "Epoch 17/50\n",
      "625/625 [==============================] - 172s 275ms/step - loss: 2.2968e-04 - mse: 4.6425e-04 - val_loss: 7.9060e-04 - val_mse: 0.0016\n",
      "Epoch 18/50\n",
      "625/625 [==============================] - 172s 275ms/step - loss: 2.9664e-04 - mse: 6.0146e-04 - val_loss: 2.6901e-04 - val_mse: 5.4680e-04\n",
      "Epoch 19/50\n",
      "625/625 [==============================] - 171s 274ms/step - loss: 2.0457e-04 - mse: 4.1250e-04 - val_loss: 2.5834e-04 - val_mse: 5.2501e-04\n",
      "Epoch 20/50\n",
      "625/625 [==============================] - 172s 275ms/step - loss: 1.9598e-04 - mse: 3.9501e-04 - val_loss: 2.7697e-04 - val_mse: 5.6437e-04\n",
      "Epoch 21/50\n",
      "625/625 [==============================] - 172s 275ms/step - loss: 2.4347e-04 - mse: 4.9263e-04 - val_loss: 4.0459e-04 - val_mse: 8.2509e-04\n",
      "Epoch 22/50\n",
      "625/625 [==============================] - 171s 274ms/step - loss: 3.2280e-04 - mse: 6.5567e-04 - val_loss: 3.0645e-04 - val_mse: 6.2290e-04\n",
      "Epoch 23/50\n",
      "625/625 [==============================] - 172s 275ms/step - loss: 2.1529e-04 - mse: 4.3463e-04 - val_loss: 4.1235e-04 - val_mse: 8.5911e-04\n",
      "Epoch 24/50\n",
      "625/625 [==============================] - 172s 275ms/step - loss: 2.3503e-04 - mse: 4.7511e-04 - val_loss: 2.5558e-04 - val_mse: 5.1914e-04\n",
      "Epoch 25/50\n",
      "625/625 [==============================] - 172s 275ms/step - loss: 1.8247e-04 - mse: 3.6750e-04 - val_loss: 2.5794e-04 - val_mse: 5.2473e-04\n",
      "Epoch 26/50\n",
      "625/625 [==============================] - 172s 275ms/step - loss: 1.7213e-04 - mse: 3.4650e-04 - val_loss: 2.4461e-04 - val_mse: 4.9724e-04\n",
      "Epoch 27/50\n",
      "625/625 [==============================] - 172s 275ms/step - loss: 2.2406e-04 - mse: 4.5366e-04 - val_loss: 3.5633e-04 - val_mse: 7.2757e-04\n",
      "Epoch 28/50\n",
      "625/625 [==============================] - 172s 275ms/step - loss: 2.5909e-04 - mse: 5.2543e-04 - val_loss: 2.6319e-04 - val_mse: 5.3547e-04\n",
      "Epoch 29/50\n",
      "625/625 [==============================] - 172s 275ms/step - loss: 2.1671e-04 - mse: 4.3835e-04 - val_loss: 2.9690e-04 - val_mse: 6.0483e-04\n",
      "Epoch 30/50\n",
      "625/625 [==============================] - 172s 275ms/step - loss: 1.9825e-04 - mse: 3.9993e-04 - val_loss: 2.5887e-04 - val_mse: 5.2661e-04\n",
      "Epoch 31/50\n",
      "625/625 [==============================] - 172s 275ms/step - loss: 2.2750e-04 - mse: 4.6004e-04 - val_loss: 2.5857e-04 - val_mse: 5.2635e-04\n",
      "Epoch 32/50\n",
      "625/625 [==============================] - 172s 275ms/step - loss: 1.7038e-04 - mse: 3.4312e-04 - val_loss: 2.5676e-04 - val_mse: 5.2218e-04\n",
      "Epoch 33/50\n",
      "625/625 [==============================] - 171s 274ms/step - loss: 1.7126e-04 - mse: 3.4492e-04 - val_loss: 2.4896e-04 - val_mse: 5.0650e-04\n",
      "Epoch 34/50\n",
      "625/625 [==============================] - 171s 274ms/step - loss: 1.4659e-04 - mse: 2.9469e-04 - val_loss: 2.3891e-04 - val_mse: 4.8572e-04\n",
      "Epoch 35/50\n",
      "625/625 [==============================] - 171s 274ms/step - loss: 1.3982e-04 - mse: 2.8099e-04 - val_loss: 2.4234e-04 - val_mse: 4.9307e-04\n",
      "Epoch 36/50\n",
      "625/625 [==============================] - 171s 274ms/step - loss: 2.0706e-04 - mse: 4.1974e-04 - val_loss: 6.2904e-04 - val_mse: 0.0013\n",
      "Epoch 37/50\n",
      "625/625 [==============================] - 171s 274ms/step - loss: 2.6328e-04 - mse: 5.3430e-04 - val_loss: 3.0987e-04 - val_mse: 6.3570e-04\n",
      "Epoch 38/50\n",
      "625/625 [==============================] - 171s 274ms/step - loss: 1.7101e-04 - mse: 3.4467e-04 - val_loss: 2.6489e-04 - val_mse: 5.3955e-04\n",
      "Epoch 39/50\n",
      "625/625 [==============================] - 171s 274ms/step - loss: 1.9009e-04 - mse: 3.8369e-04 - val_loss: 3.1151e-04 - val_mse: 6.3457e-04\n",
      "Epoch 40/50\n",
      "625/625 [==============================] - 171s 274ms/step - loss: 2.2983e-04 - mse: 4.6625e-04 - val_loss: 5.1008e-04 - val_mse: 0.0010\n",
      "Epoch 41/50\n",
      "625/625 [==============================] - 171s 274ms/step - loss: 1.9264e-04 - mse: 3.8861e-04 - val_loss: 2.5447e-04 - val_mse: 5.1792e-04\n",
      "Epoch 42/50\n",
      "625/625 [==============================] - 171s 274ms/step - loss: 1.4477e-04 - mse: 2.9100e-04 - val_loss: 2.4266e-04 - val_mse: 4.9393e-04\n",
      "Epoch 43/50\n",
      "625/625 [==============================] - 171s 274ms/step - loss: 1.3278e-04 - mse: 2.6673e-04 - val_loss: 2.4152e-04 - val_mse: 4.9171e-04\n",
      "Epoch 44/50\n",
      "625/625 [==============================] - 171s 274ms/step - loss: 1.2721e-04 - mse: 2.5547e-04 - val_loss: 2.5042e-04 - val_mse: 5.1026e-04\n",
      "Epoch 45/50\n",
      "625/625 [==============================] - 172s 276ms/step - loss: 1.2662e-04 - mse: 2.5429e-04 - val_loss: 2.4717e-04 - val_mse: 5.0316e-04\n",
      "Epoch 46/50\n",
      "625/625 [==============================] - 172s 275ms/step - loss: 2.0218e-04 - mse: 4.0977e-04 - val_loss: 3.5770e-04 - val_mse: 7.2948e-04\n",
      "Epoch 47/50\n",
      "625/625 [==============================] - 172s 275ms/step - loss: 2.3200e-04 - mse: 4.7005e-04 - val_loss: 2.8225e-04 - val_mse: 5.7542e-04\n",
      "Epoch 48/50\n",
      "625/625 [==============================] - 172s 274ms/step - loss: 1.8482e-04 - mse: 3.7321e-04 - val_loss: 2.8228e-04 - val_mse: 5.7521e-04\n",
      "Epoch 49/50\n",
      "625/625 [==============================] - 172s 275ms/step - loss: 1.5324e-04 - mse: 3.0834e-04 - val_loss: 2.5043e-04 - val_mse: 5.1023e-04\n",
      "Epoch 50/50\n",
      "625/625 [==============================] - 172s 276ms/step - loss: 1.6510e-04 - mse: 3.3280e-04 - val_loss: 2.5911e-04 - val_mse: 5.2835e-04\n"
     ]
    }
   ],
   "source": [
    "model_history = ridnet.fit(\n",
    "    x= x_train,\n",
    "    y= y_train,\n",
    "    validation_data = (x_validation, y_validation),\n",
    "    epochs= 50,\n",
    "    batch_size= batchsize,\n",
    "    shuffle= True\n",
    ")"
   ]
  },
  {
   "cell_type": "markdown",
   "metadata": {},
   "source": [
    "# MSE Score on test data\n",
    "\n",
    "# Evaluation of the model on test data\n",
    "\n",
    "# mse score on test set is equal to : 0.00052"
   ]
  },
  {
   "cell_type": "code",
   "execution_count": 25,
   "metadata": {
    "colab": {
     "base_uri": "https://localhost:8080/"
    },
    "id": "nTuRo0COUp3U",
    "outputId": "02ad9cae-a538-4e79-b813-d128f78e4f69"
   },
   "outputs": [
    {
     "name": "stdout",
     "output_type": "stream",
     "text": [
      "625/625 [==============================] - 31s 48ms/step - loss: 2.5932e-04 - mse: 5.2875e-04\n",
      "Test loss: 0.00025931737036444247\n",
      "Test mean_squared_error: 0.0005287536769174039\n"
     ]
    }
   ],
   "source": [
    "results = ridnet.evaluate(x_test, y_test)\n",
    "\n",
    "print('Test loss:', results[0])\n",
    "print('Test mean_squared_error:', results[1])"
   ]
  },
  {
   "cell_type": "code",
   "execution_count": 28,
   "metadata": {
    "id": "mlQraOGVsd_G"
   },
   "outputs": [],
   "source": [
    "ridnet.save_weights('my_model_weights.h5')\n",
    "ridnet.save('my_model.h5')"
   ]
  },
  {
   "cell_type": "markdown",
   "metadata": {},
   "source": [
    "Here we plot of \"mse\" and \"loss\" of the model related to the process of training"
   ]
  },
  {
   "cell_type": "code",
   "execution_count": 26,
   "metadata": {
    "colab": {
     "base_uri": "https://localhost:8080/",
     "height": 977
    },
    "id": "_F1X76Sn7pza",
    "outputId": "0fca3540-b94b-411b-bf48-222d39fcf123"
   },
   "outputs": [
    {
     "data": {
      "image/png": "[encoded data removed]",
      "text/plain": [
       "<Figure size 864x576 with 1 Axes>"
      ]
     },
     "metadata": {
      "needs_background": "light"
     },
     "output_type": "display_data"
    },
    {
     "data": {
      "image/png": "[encoded data removed]",
      "text/plain": [
       "<Figure size 864x576 with 1 Axes>"
      ]
     },
     "metadata": {
      "needs_background": "light"
     },
     "output_type": "display_data"
    }
   ],
   "source": [
    "plt.figure(figsize=(12,8))\n",
    "plt.plot(model_history.history['loss'])\n",
    "plt.plot(model_history.history['val_loss'])\n",
    "plt.legend(['Train', 'validation'])\n",
    "plt.xlabel('Epoch')\n",
    "plt.ylabel('loss')\n",
    "plt.xticks(ticks=model_history.epoch, labels=model_history.epoch)\n",
    "plt.show()\n",
    "\n",
    "plt.figure(figsize=(12,8))\n",
    "plt.plot(model_history.history['mse'])\n",
    "plt.plot(model_history.history['val_mse'])\n",
    "plt.legend(['Train', 'validation'])\n",
    "plt.xlabel('Epoch')\n",
    "plt.ylabel('mse')\n",
    "plt.xticks(ticks=model_history.epoch, labels=model_history.epoch)\n",
    "plt.show()"
   ]
  },
  {
   "cell_type": "markdown",
   "metadata": {
    "id": "4psqGi-572iQ"
   },
   "source": [
    "# calculate STD of the model"
   ]
  },
  {
   "cell_type": "code",
   "execution_count": 27,
   "metadata": {
    "colab": {
     "base_uri": "https://localhost:8080/"
    },
    "id": "InN-1usn43er",
    "outputId": "e23a270f-8b00-4931-c013-2b7dea751570"
   },
   "outputs": [
    {
     "name": "stdout",
     "output_type": "stream",
     "text": [
      "625/625 [==============================] - 31s 49ms/step - loss: 2.6131e-04 - mse: 5.3286e-04\n",
      "625/625 [==============================] - 30s 49ms/step - loss: 2.6577e-04 - mse: 5.4203e-04\n",
      "625/625 [==============================] - 30s 48ms/step - loss: 2.6440e-04 - mse: 5.3932e-04\n",
      "625/625 [==============================] - 30s 48ms/step - loss: 2.6132e-04 - mse: 5.3255e-04\n",
      "625/625 [==============================] - 30s 48ms/step - loss: 2.6495e-04 - mse: 5.4045e-04\n",
      "625/625 [==============================] - 30s 48ms/step - loss: 2.6126e-04 - mse: 5.3284e-04\n",
      "625/625 [==============================] - 30s 49ms/step - loss: 2.6211e-04 - mse: 5.3406e-04\n",
      "625/625 [==============================] - 30s 48ms/step - loss: 2.6296e-04 - mse: 5.3624e-04\n",
      "625/625 [==============================] - 30s 48ms/step - loss: 2.5992e-04 - mse: 5.2963e-04\n",
      "625/625 [==============================] - 30s 48ms/step - loss: 2.6334e-04 - mse: 5.3711e-04\n",
      "std =====>  3.790927776203908e-06\n"
     ]
    }
   ],
   "source": [
    "mse_scores = np.zeros(10)\n",
    "for i in range(10):\n",
    "  x_test, y_test = generate_from_test(20000)\n",
    "  mse_scores[i] = ridnet.evaluate(x_test, y_test)[1]\n",
    "\n",
    "mean_mse = mse_scores.mean()\n",
    "std = mse_scores.std()\n",
    "print(\"std =====> \", std)"
   ]
  }
 ],
 "metadata": {
  "accelerator": "GPU",
  "colab": {
   "collapsed_sections": [],
   "name": "ridnet_53.ipynb",
   "provenance": []
  },
  "kernelspec": {
   "display_name": "Python 3 (ipykernel)",
   "language": "python",
   "name": "python3"
  },
  "language_info": {
   "codemirror_mode": {
    "name": "ipython",
    "version": 3
   },
   "file_extension": ".py",
   "mimetype": "text/x-python",
   "name": "python",
   "nbconvert_exporter": "python",
   "pygments_lexer": "ipython3",
   "version": "3.9.12"
  }
 },
 "nbformat": 4,
 "nbformat_minor": 1
}
